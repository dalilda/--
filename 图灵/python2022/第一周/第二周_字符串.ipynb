{
 "cells": [
  {
   "cell_type": "markdown",
   "metadata": {},
   "source": [
    "# 字符串函数\n",
    "# 无参函数 lower upper capitalize swapcase\n",
    "# 有参函数 zfill count startswith endswith find index strip lstrip rstrip replace\n",
    "# 返回布尔值函数 isspace istitle isupper islower\n",
    "# 连接、拆分函数 join split 以后讲\n"
   ]
  },
  {
   "cell_type": "code",
   "execution_count": 1,
   "metadata": {},
   "outputs": [
    {
     "name": "stdout",
     "output_type": "stream",
     "text": [
      "HULE IS. MY NAME\n",
      "hule\n",
      "Hule is. my name\n",
      "hUlE\n",
      "Hule Is. My Name\n"
     ]
    }
   ],
   "source": [
    "# String函数\n",
    "# lower upper capitalize swapcase\n",
    "lower = \"hule Is. my name\"\n",
    "upper = \"HULE\"\n",
    "mix = \"HuLe\"\n",
    "print(lower.upper())\n",
    "print(upper.lower())\n",
    "print(lower.capitalize())# capitalize 只把第一个词的第一个字母变大写，和istitle不一样。\n",
    "print(mix.swapcase())\n",
    "print(lower.title())"
   ]
  },
  {
   "cell_type": "code",
   "execution_count": 7,
   "metadata": {},
   "outputs": [
    {
     "name": "stdout",
     "output_type": "stream",
     "text": [
      "0hule\n",
      "1\n",
      "True\n",
      "True\n",
      "-1\n",
      " name is hule, what's your \n",
      "my age is hule, what's your name?\n"
     ]
    }
   ],
   "source": [
    "# String函数 zfill count startswith endswith find index strip lstrip rstrip replace\n",
    "\n",
    "\n",
    "# zfill\n",
    "lower = \"hule\"  \n",
    "print(lower.zfill(5))\n",
    "\n",
    "# count\n",
    "sentence = \"my name is hule, what's your name?\"\n",
    "print(sentence.count(\"name\",3,-1))\n",
    "\n",
    "# startswith endswith\n",
    "print(sentence.startswith(\"my\"))\n",
    "print(sentence.endswith('?'))\n",
    "\n",
    "# find() index()\n",
    "print(sentence.find(\"www\"))#join 找不到会返回-1\n",
    "# print(sentence.index(\"www\"))#index() 找不到的时候会报错，编译不通过\n",
    "\n",
    "# strip() lstrip() rstrip()\n",
    "print(sentence.strip(\"?\").lstrip(\"my\").rstrip(\"name\"))\n",
    "\n",
    "# replace()\n",
    "print(sentence.replace(\"name\",\"age\",1))"
   ]
  },
  {
   "cell_type": "code",
   "execution_count": 9,
   "metadata": {},
   "outputs": [
    {
     "name": "stdout",
     "output_type": "stream",
     "text": [
      "True\n",
      "True\n",
      "True\n",
      "True\n"
     ]
    }
   ],
   "source": [
    "# String函数 boolean函数 isspace istitle isupper islower\n",
    "# isspace\n",
    "print(\" \".isspace())\n",
    "\n",
    "# istitle\n",
    "print(\"My Name Is\".istitle())\n",
    "\n",
    "# issupper\n",
    "print(\"NYMDS\".isupper())\n",
    "\n",
    "# islower\n",
    "print(\"oidsh\".islower())"
   ]
  },
  {
   "cell_type": "code",
   "execution_count": null,
   "metadata": {},
   "outputs": [],
   "source": [
    "# String 函数 join split"
   ]
  },
  {
   "cell_type": "markdown",
   "metadata": {},
   "source": [
    "# 字符串格式化\n",
    "# %法、format法、f法"
   ]
  },
  {
   "cell_type": "code",
   "execution_count": 11,
   "metadata": {},
   "outputs": [
    {
     "name": "stdout",
     "output_type": "stream",
     "text": [
      "my name is hule.\n",
      "my name is %s,my age is %s.\n",
      "my name is %s,my age is %s. | my name is hule,my age is 25.\n",
      "10\n",
      "8\n",
      "8.000000e+00\n"
     ]
    }
   ],
   "source": [
    "# 字符串格式化\n",
    "# %s法\n",
    "s1 = \"my name is %s\"%\"hule.\"\n",
    "print(s1)\n",
    "s2 = \"my name is %s,my age is %s.\"\n",
    "print(s2)\n",
    "news2 = s2%(\"hule\",25)\n",
    "print(s2,\"|\",news2)\n",
    "\n",
    "# 格式符\n",
    "print('%o'%8)\n",
    "print('%x'%8)\n",
    "print('%e'%8)"
   ]
  },
  {
   "cell_type": "code",
   "execution_count": 12,
   "metadata": {},
   "outputs": [
    {
     "name": "stdout",
     "output_type": "stream",
     "text": [
      "my name is hule.\n",
      "my name is hule, my age is 25.\n",
      "my name is 25, my age is hule.\n",
      "the numer is13.22,another number is 13.333000.\n"
     ]
    }
   ],
   "source": [
    "# 字符串格式化\n",
    "# format法\n",
    "s = \"my name is {}.\".format(\"hule\")\n",
    "print(s)\n",
    "\n",
    "s1 = \"my name is {}, my age is {}.\".format(\"hule\",25)\n",
    "print(s1)\n",
    "\n",
    "s2 = \"my name is {1}, my age is {0}.\".format(\"hule\",25)\n",
    "print(s2)\n",
    "\n",
    "# 格式符\n",
    "s3 = \"the numer is{:.2f},another number is {:f}.\".format(13.222,13.333)\n",
    "print(s3)"
   ]
  },
  {
   "cell_type": "code",
   "execution_count": null,
   "metadata": {},
   "outputs": [],
   "source": [
    "# 字符串格式化\n",
    "# f法\n",
    "name = \"hule\"\n",
    "age = 25\n",
    "s = f\"my name is {name}, my age is {age}.\"\n",
    "print(s)\n",
    "\n",
    "s2 = \"today is {monday}, the weather is {weather}.\"\n",
    "print(s2)\n",
    "\n",
    "monday = \"monday\"\n",
    "weather = \"rainy\"\n",
    "s3 = f\"today is {monday}, the weather is {weather}.\"\n",
    "print(s3)"
   ]
  },
  {
   "cell_type": "markdown",
   "metadata": {},
   "source": [
    "# 转义字符 \\n \\t \\r \\' \\\" \\\\\n"
   ]
  },
  {
   "cell_type": "code",
   "execution_count": null,
   "metadata": {},
   "outputs": [],
   "source": [
    "print(\"hule %s\\r is my name.\"%\"??\")# \\r会清除之前的字符"
   ]
  },
  {
   "cell_type": "markdown",
   "metadata": {},
   "source": [
    "# 转义无效符 r"
   ]
  },
  {
   "cell_type": "code",
   "execution_count": 14,
   "metadata": {},
   "outputs": [
    {
     "name": "stdout",
     "output_type": "stream",
     "text": [
      "my name is hule\\t,haha\\n.hello world~\\\\\n",
      "\\r\\r\\r\\n\\n\\n\\t\\t\\t\n"
     ]
    }
   ],
   "source": [
    "print(r\"my name is hule\\t,haha\\n.hello world~\\\\\")\n",
    "print(r\"\\r\\r\\r\\n\\n\\n\\t\\t\\t\")"
   ]
  },
  {
   "cell_type": "code",
   "execution_count": 2,
   "metadata": {},
   "outputs": [
    {
     "name": "stdout",
     "output_type": "stream",
     "text": [
      "abcabcabc\n"
     ]
    }
   ],
   "source": [
    "# java中String可以和int相加不能相乘\n",
    "# python中string不能和int相加,但是可以相乘\n",
    "\n",
    "# print(1+'abc')#TypeError: unsupported operand type(s) for +: 'int' and 'str'\n",
    "print(3*'abc')"
   ]
  },
  {
   "cell_type": "code",
   "execution_count": 19,
   "metadata": {},
   "outputs": [
    {
     "name": "stdout",
     "output_type": "stream",
     "text": [
      "sting12\n",
      "13\n",
      "(1, 2)sting12\n",
      "\\r\\r\\\\r\n"
     ]
    }
   ],
   "source": [
    "temp = (1,2)\n",
    "a = \"sting%s%s\"\n",
    "print(a%temp)\n",
    "\n",
    "print(\"{}{}\".format(1,3))\n",
    "\n",
    "print(f\"{temp}{a%temp}\")\n",
    "print(r\"\\r\\r\\\\r\")\n"
   ]
  },
  {
   "cell_type": "code",
   "execution_count": 4,
   "metadata": {},
   "outputs": [
    {
     "name": "stdout",
     "output_type": "stream",
     "text": [
      "25\n",
      "23\n",
      "['a', '|', 'b', '|', 'c', '|', 'd', '|']\n"
     ]
    }
   ],
   "source": [
    "# import ord\n",
    "a = 'r'\n",
    "print(ord('z')-ord('a'))\n",
    "b = '23'\n",
    "c =int(b)\n",
    "print(c)\n",
    "c = \"a | b | c | d | \"\n",
    "print(c.split())"
   ]
  }
 ],
 "metadata": {
  "kernelspec": {
   "display_name": "Python 3.9.1 64-bit",
   "language": "python",
   "name": "python3"
  },
  "language_info": {
   "codemirror_mode": {
    "name": "ipython",
    "version": 3
   },
   "file_extension": ".py",
   "mimetype": "text/x-python",
   "name": "python",
   "nbconvert_exporter": "python",
   "pygments_lexer": "ipython3",
   "version": "3.9.1"
  },
  "orig_nbformat": 4,
  "vscode": {
   "interpreter": {
    "hash": "7076dbddf55ea1a8f879a6c608378d0067acea8036463ec59d77e9600896bd97"
   }
  }
 },
 "nbformat": 4,
 "nbformat_minor": 2
}
