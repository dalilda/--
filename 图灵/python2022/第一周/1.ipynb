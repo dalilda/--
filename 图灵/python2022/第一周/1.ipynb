{
 "cells": [
  {
   "cell_type": "code",
   "execution_count": 1,
   "metadata": {},
   "outputs": [
    {
     "name": "stdout",
     "output_type": "stream",
     "text": [
      "[1, 2, 3, 4, 5, 6]\n"
     ]
    }
   ],
   "source": [
    "a = [1,2,3]\n",
    "b = [4,5,6]\n",
    "a.extend(b)\n",
    "print(a)\n",
    "a = 100\n",
    "print(\"%e\"%a)"
   ]
  },
  {
   "cell_type": "code",
   "execution_count": null,
   "metadata": {},
   "outputs": [],
   "source": [
    "a = 300\n",
    "b = 300\n",
    "print (id (a) == id (b))\n"
   ]
  },
  {
   "cell_type": "code",
   "execution_count": null,
   "metadata": {},
   "outputs": [],
   "source": [
    "print(bool([]))\n",
    "print(bool([1]))\n",
    "print(bool(()))\n",
    "print(bool((1)))\n",
    "print(bool((1,)))\n",
    "print(bool({}))\n",
    "print(bool({1:2}))\n",
    "print(bool(None))\n",
    "print(bool(1))\n",
    "print(bool(2))\n",
    "print(bool(0.0))\n",
    "print(bool(1.1))\n",
    "print(bool(\"\"))\n",
    "print(bool(\"hule:\"))"
   ]
  },
  {
   "cell_type": "markdown",
   "metadata": {},
   "source": []
  },
  {
   "cell_type": "code",
   "execution_count": 2,
   "metadata": {},
   "outputs": [
    {
     "name": "stdout",
     "output_type": "stream",
     "text": [
      "2\n"
     ]
    }
   ],
   "source": [
    "print(12/5)#java里结果是2"
   ]
  }
 ],
 "metadata": {
  "kernelspec": {
   "display_name": "Python 3.9.1 64-bit",
   "language": "python",
   "name": "python3"
  },
  "language_info": {
   "codemirror_mode": {
    "name": "ipython",
    "version": 3
   },
   "file_extension": ".py",
   "mimetype": "text/x-python",
   "name": "python",
   "nbconvert_exporter": "python",
   "pygments_lexer": "ipython3",
   "version": "3.9.1"
  },
  "orig_nbformat": 4,
  "vscode": {
   "interpreter": {
    "hash": "7076dbddf55ea1a8f879a6c608378d0067acea8036463ec59d77e9600896bd97"
   }
  }
 },
 "nbformat": 4,
 "nbformat_minor": 2
}
