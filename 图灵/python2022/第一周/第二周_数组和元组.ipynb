{
 "cells": [
  {
   "cell_type": "markdown",
   "metadata": {},
   "source": [
    "# 列表和元组"
   ]
  },
  {
   "cell_type": "code",
   "execution_count": 2,
   "metadata": {},
   "outputs": [
    {
     "name": "stdout",
     "output_type": "stream",
     "text": [
      "3\n",
      "('xiaomu', 'dewei', 'xiaowang', 'xiaomu', 'dewei', 'xiaowang')\n",
      "('xiaomu', 'dewei', 'xiaowang')\n",
      "('xiaomu', 'dewei', 'xiaowang', 'xiaomu', 'dewei', 'xiaowang')\n",
      "True\n",
      "False\n",
      "('xiaomu', 'dewei', 'xiaowang', 'abc')\n",
      "('xiaomu', 'dewei', 'xiaowang', 'abc', 'xiaomu', 'dewei', 'xiaowang', 'abc', 'xiaomu', 'dewei', 'xiaowang', 'abc', 'xiaomu', 'dewei', 'xiaowang', 'abc', 'xiaomu', 'dewei', 'xiaowang', 'abc', 'xiaomu', 'dewei', 'xiaowang', 'abc', 'xiaomu', 'dewei', 'xiaowang', 'abc', 'xiaomu', 'dewei', 'xiaowang', 'abc', 'xiaomu', 'dewei', 'xiaowang', 'abc', 'xiaomu', 'dewei', 'xiaowang', 'abc')\n",
      "['dewei', 'xiaomu', 'xiaowang']\n",
      "['dewei', 'xiaomu', 'xiaowang', 'dewei', 'xiaomu', 'xiaowang', 'dewei', 'xiaomu', 'xiaowang', 'dewei', 'xiaomu', 'xiaowang', 'dewei', 'xiaomu', 'xiaowang']\n"
     ]
    }
   ],
   "source": [
    "names = ('xiaomu','dewei','xiaowang')\n",
    "print(len(names))\n",
    "print(names+names)\n",
    "print(names)\n",
    "print(names*2)\n",
    "print('xiaomu'in names)\n",
    "print('xiaowang'not in names)\n",
    "names +=('abc',)\n",
    "print(names)\n",
    "names *=10\n",
    "print(names)\n",
    "\n",
    "names_list = ['dewei','xiaomu']\n",
    "names_list +=['xiaowang']\n",
    "print(names_list)\n",
    "names_list *=5\n",
    "print(names_list)"
   ]
  },
  {
   "cell_type": "markdown",
   "metadata": {},
   "source": [
    "# 列表函数操作"
   ]
  },
  {
   "cell_type": "code",
   "execution_count": 7,
   "metadata": {},
   "outputs": [
    {
     "name": "stdout",
     "output_type": "stream",
     "text": [
      "1600698012864\n",
      "['python入门课程']\n",
      "1600698012864\n",
      "['python入门课程', 1.1, (1,), {'name': 'dewei'}, 'django', 1]\n",
      "1600698012864\n"
     ]
    }
   ],
   "source": [
    "#append\n",
    "books = []\n",
    "print(id(books))\n",
    "books.append('python入门课程')\n",
    "print(books)\n",
    "print(id(books))\n",
    "\n",
    "number = 1.1\n",
    "tuple_test = (1,)\n",
    "dict_test = {'name':'dewei'}\n",
    "books.append(number)\n",
    "books.append(tuple_test)\n",
    "books.append(dict_test)\n",
    "books.append('django')\n",
    "books.append(1)\n",
    "print(books)\n",
    "print(id(books))"
   ]
  },
  {
   "cell_type": "code",
   "execution_count": 13,
   "metadata": {},
   "outputs": [
    {
     "name": "stdout",
     "output_type": "stream",
     "text": [
      "['苹果', '梨', '香蕉', '西瓜']\n",
      "['苹果', '梨', '香蕉', '西瓜', '榴莲', True, '草莓']\n"
     ]
    }
   ],
   "source": [
    "#insert\n",
    "fruits =['苹果','香蕉','西瓜']\n",
    "fruits.insert(1,'梨')\n",
    "print(fruits)\n",
    "fruits.insert(5,'草莓')\n",
    "fruits.insert(-1,'榴莲')\n",
    "fruits.insert(-1,True)\n",
    "print(fruits)"
   ]
  },
  {
   "cell_type": "markdown",
   "metadata": {},
   "source": []
  },
  {
   "cell_type": "code",
   "execution_count": 18,
   "metadata": {},
   "outputs": [
    {
     "name": "stdout",
     "output_type": "stream",
     "text": [
      "1\n",
      "0\n",
      "0\n",
      "2\n"
     ]
    }
   ],
   "source": [
    "# count\n",
    "# coding:utf-8\n",
    "fruits =['苹果','香蕉','西瓜']\n",
    "print(fruits.count('西瓜'))\n",
    "print(fruits.count('西'))\n",
    "print(fruits.count(''))\n",
    "\n",
    "lis = [\n",
    "    {\"name\":\"hule\"},\n",
    "    {\"name\":\"hule\"},\n",
    "    {\"name\":\"alice\"}\n",
    "]\n",
    "print(lis.count({\"name\":\"hule\"})) #就算是字典也可以count,但是要注意的是必须是完整的字典。count方法只能搜索完整的东西。\n"
   ]
  },
  {
   "cell_type": "code",
   "execution_count": 1,
   "metadata": {},
   "outputs": [
    {
     "name": "stdout",
     "output_type": "stream",
     "text": [
      "None\n",
      "[{'name': 'hule'}, {'name': 'alice'}]\n"
     ]
    }
   ],
   "source": [
    "# remove\n",
    "lis = [\n",
    "    {\"name\":\"hule\"},\n",
    "    {\"name\":\"hule\"},\n",
    "    {\"name\":\"alice\"}\n",
    "]\n",
    "lis.remove({\"name\":\"hule\"}) #是在原先的列表内删除。列表是可以修改的.\n",
    "print(lis) #删除的是第一个出现的\n",
    "\n",
    "# lis.remove(123) #remove 的item 不在原来的列表中时,会报错\n"
   ]
  },
  {
   "cell_type": "code",
   "execution_count": 5,
   "metadata": {},
   "outputs": [
    {
     "name": "stdout",
     "output_type": "stream",
     "text": [
      "[3]\n"
     ]
    }
   ],
   "source": [
    "# 内置函数del\n",
    "# 可以把整个变量删除\n",
    "lis = [1,2,3]\n",
    "lis.pop(0)\n",
    "del lis[0]\n",
    "print(lis)\n",
    "# del lis\n",
    "# print(lis) #报错, 没有list "
   ]
  },
  {
   "cell_type": "code",
   "execution_count": 6,
   "metadata": {},
   "outputs": [
    {
     "name": "stdout",
     "output_type": "stream",
     "text": [
      "[1, 2, 3]\n",
      "[1, 2, 3]\n",
      "None\n",
      "[3, 2, 1]\n"
     ]
    }
   ],
   "source": [
    "# 函数reverse\n",
    "# 把列表中的顺序调换\n",
    "lis = [1,2,3]\n",
    "print(lis)\n",
    "lis.reverse()\n",
    "lis.reverse()\n",
    "print(lis)\n",
    "print(lis.reverse())\n",
    "print(lis)"
   ]
  },
  {
   "cell_type": "code",
   "execution_count": 9,
   "metadata": {},
   "outputs": [
    {
     "name": "stdout",
     "output_type": "stream",
     "text": [
      "[1, 2, 3, 4, 4, 5, 6, 8]\n",
      "[8, 6, 5, 4, 4, 3, 2, 1]\n",
      "None\n"
     ]
    }
   ],
   "source": [
    "# 函数sort\n",
    "# 功能:排序\n",
    "# 用法: list.sort(cmp=None,key=None,reverse=False) cmp和key以后再说\n",
    "# 可以把列表按照一定规律排序\n",
    "\n",
    "lis = [1,3,4,5,2,6,4,8]\n",
    "lis.sort()\n",
    "print(lis)\n",
    "lis.sort(reverse=True) #sort默认升序,reverse=True会逆序变成降序\n",
    "print(lis)\n",
    "\n",
    "print(lis.sort()) # 直接打印lis.sort()输出的是None 因为sort()无返回值\n",
    "\n",
    "lis2 = [1,3,2,4,6,3,7,'a',\"int\"]\n",
    "# lis2.sort() #sort()要求列表中元素类型相同\n",
    "#'<' not supported between instances of 'str' and 'int'"
   ]
  },
  {
   "cell_type": "code",
   "execution_count": 11,
   "metadata": {},
   "outputs": [
    {
     "name": "stdout",
     "output_type": "stream",
     "text": [
      "[]\n",
      "None\n"
     ]
    }
   ],
   "source": [
    "# clear\n",
    "# 功能:清空列表中的所有数据\n",
    "# 用法:list.clear()->无参数, 无返回值\n",
    "# coding:utf-8\n",
    "lis = [1,\"python\",{\"name\":\"hule\"}]\n",
    "lis.clear()\n",
    "print(lis)\n",
    "print(lis.clear()) #无返回值,所以是None"
   ]
  },
  {
   "cell_type": "code",
   "execution_count": 28,
   "metadata": {},
   "outputs": [
    {
     "name": "stdout",
     "output_type": "stream",
     "text": [
      "b [1, [1, 2], [3, 4]]\n",
      "[1, [1, 2], [3, 4]]\n",
      "[2, [1, 2], [3, 4]]\n",
      "[1, [1, 2, 3], [3, 4]]\n",
      "[2, [1, 2, 3], [3, 4]]\n",
      "[1, [1, 2, 3], [3, 4]]\n",
      "[1, [1, 2, 3], [3, 4]]\n",
      "[1, [1, 2, 3], [3, 4]]\n",
      "[1, [1, 2], [3, 4]]\n",
      "[1, [1, 2], [3, 4, 8]]\n",
      "[1, [1, 2], [3, 4, 8]]\n",
      "[]\n",
      "[]\n",
      "[]\n",
      "<class 'str'>\n"
     ]
    }
   ],
   "source": [
    "# 函数copy\n",
    "# 功能:复制列表中的元素到新列表中,内存地址不同\n",
    "# 用法:list.copy() 属于浅拷贝\n",
    "\n",
    "a = [1,[1,2],[3,4]]\n",
    "b = a.copy()\n",
    "print(\"b\",b)\n",
    "\n",
    "b[0]=2\n",
    "print(a)\n",
    "print(b)\n",
    "\n",
    "b[1].append(3)\n",
    "print(a)\n",
    "print(b)\n",
    "\n",
    "# copy.deepcopy深拷贝\n",
    "import copy\n",
    "c = copy.deepcopy(a)\n",
    "print(a)\n",
    "print(c)\n",
    "c[1].remove(3)\n",
    "print(a)\n",
    "print(c)\n",
    "\n",
    "# 二次赋值与原变量共享内存\n",
    "d = c\n",
    "d[2].append(8)\n",
    "print(c)\n",
    "print(d)\n",
    "c.clear()\n",
    "print(c)\n",
    "print(d)\n",
    "del c\n",
    "print(d) # 二次赋值时,两个变量指向同一个内存地址 仅仅删除一个变量,内存地址仍然有一个变量在使用,该内存地址不会删除\n"
   ]
  },
  {
   "cell_type": "code",
   "execution_count": 5,
   "metadata": {},
   "outputs": [
    {
     "name": "stdout",
     "output_type": "stream",
     "text": [
      "['dewei', 'xiaomu', 'xiaogang', 'xiaohong', 'xiaoli']\n",
      "['dewei', 'xiaomu', 'xiaogang', 'xiaohong', 'xiaoli', 'a', 's', 'd', 'f']\n",
      "['dewei', 'xiaomu', 'xiaogang', 'xiaohong', 'xiaoli', 'a', 's', 'd', 'f', 'name']\n",
      "[1, 1, 2, 3, 'aa']\n"
     ]
    }
   ],
   "source": [
    "# 函数extend\n",
    "# 功能:将别的列表或元组中的函数导入到当前列表中\n",
    "# 用法:list.extend(iterable)->iterable代表列表或元组, 该函数无返回值\n",
    "\n",
    "students = ['dewei','xiaomu','xiaogang']\n",
    "new_students = ['xiaohong','xiaoli']\n",
    "students.extend(new_students)\n",
    "print(students)\n",
    "\n",
    "students.extend('asdf') #java中字符串才是必须要\"\"包裹 python中不用\n",
    "print(students) \n",
    "\n",
    "students.extend({\"name\":\"hule\"})\n",
    "print(students)# extend可以导入列表、元组、字符串、字典。不过字典只能导入key。\n",
    "# students.extend(1)#数字is not iterable\n",
    "# students.extend(True)#'bool' object is not iterable\n",
    "a = [1]\n",
    "b = (1,)\n",
    "c = set([2,3])\n",
    "d = {\"aa\":\"bb\"}\n",
    "a.extend(b)\n",
    "a.extend(c)\n",
    "a.extend(d)\n",
    "print(a)\n"
   ]
  },
  {
   "cell_type": "markdown",
   "metadata": {},
   "source": [
    "# 列表索引"
   ]
  },
  {
   "cell_type": "code",
   "execution_count": 14,
   "metadata": {},
   "outputs": [
    {
     "name": "stdout",
     "output_type": "stream",
     "text": [
      "1\n",
      "3\n",
      "[2, 3]\n",
      "[1, 3]\n",
      "[3]\n"
     ]
    }
   ],
   "source": [
    "a=[1,2,3]\n",
    "print(a[0])\n",
    "print(a[-1])\n",
    "print(a[1:])\n",
    "\n",
    "item = a.pop(1) #pop 删除索引处的值,返回值\n",
    "print(a)\n",
    "\n",
    "del(a[0]) #del删除a[0]变量不返回值\n",
    "\n",
    "print(a)\n",
    "\n",
    "tuple_test = (1,2,3)\n",
    "# del tuple_test[0] #元组不可删\n",
    "del tuple_test"
   ]
  },
  {
   "cell_type": "code",
   "execution_count": 8,
   "metadata": {},
   "outputs": [
    {
     "name": "stdout",
     "output_type": "stream",
     "text": [
      "{}\n"
     ]
    }
   ],
   "source": [
    "dic = {1:2}\n",
    "dic.clear()\n",
    "print(dic)\n",
    "dic =[1,2,3,4,5,6]\n",
    "print()"
   ]
  }
 ],
 "metadata": {
  "kernelspec": {
   "display_name": "Python 3.9.1 64-bit",
   "language": "python",
   "name": "python3"
  },
  "language_info": {
   "codemirror_mode": {
    "name": "ipython",
    "version": 3
   },
   "file_extension": ".py",
   "mimetype": "text/x-python",
   "name": "python",
   "nbconvert_exporter": "python",
   "pygments_lexer": "ipython3",
   "version": "3.9.1"
  },
  "orig_nbformat": 4,
  "vscode": {
   "interpreter": {
    "hash": "7076dbddf55ea1a8f879a6c608378d0067acea8036463ec59d77e9600896bd97"
   }
  }
 },
 "nbformat": 4,
 "nbformat_minor": 2
}
