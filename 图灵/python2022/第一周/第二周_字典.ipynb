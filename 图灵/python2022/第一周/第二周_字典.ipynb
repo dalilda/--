{
 "cells": [
  {
   "cell_type": "code",
   "execution_count": 2,
   "metadata": {},
   "outputs": [
    {
     "name": "stdout",
     "output_type": "stream",
     "text": [
      "dict_keys(['id', 'project_name', 'price', 'count'])\n",
      "<class 'dict_keys'>\n",
      "<class 'list'>\n",
      "id\n",
      "['price', 'count']\n",
      "['id', 'project_name', 'price', 'count', 'user']\n"
     ]
    }
   ],
   "source": [
    "# 函数 keys()\n",
    "# 功能:返回key集合的伪列表(不具备列表的所有功能)\n",
    "# 用法:my_ict.keys()\n",
    "# 如何把伪列表变成真正的列表: key_list = list(my_ict.keys())\n",
    "# coding:utf-8\n",
    "project = {'id':1,'project_name':'ipad','price':2200,'count':30}\n",
    "project_title = project.keys()\n",
    "print(project_title)\n",
    "# print(project_title[0])#'dict_keys' object is not subscriptable\n",
    "# project_title.append('user')#'dict_keys' object has no attribute 'append'\n",
    "print(type(project_title))\n",
    "\n",
    "real_list = list(project_title)\n",
    "print(type(real_list))\n",
    "print(real_list[0])\n",
    "print(real_list[2:6])\n",
    "real_list.append('user')\n",
    "print(real_list)"
   ]
  },
  {
   "cell_type": "code",
   "execution_count": null,
   "metadata": {},
   "outputs": [],
   "source": [
    "# values()\n",
    "project = {'id': 1, 'name': 'ipad', 'price': 2200, 'count': 50}\n",
    "\n",
    "keys = list(project.keys())\n",
    "values = list(project.values())\n",
    "print(keys,type(project.keys()))\n",
    "print(values,type(project.values()))\n",
    "\n",
    "print('{} | {} | {} | {}'.format(keys[0], keys[1], keys[2], keys[3]))\n",
    "print('{}  | {} | {}  | {}'.format(values[0], values[1], values[2], values[3]))\n",
    "print('2  | iphone| 3000 | 50')"
   ]
  },
  {
   "cell_type": "code",
   "execution_count": 5,
   "metadata": {},
   "outputs": [
    {
     "name": "stdout",
     "output_type": "stream",
     "text": [
      "[1, 'dewei', 'abcdefg', '2020-01-01 11:11:11']\n",
      "[1, 'dewei', 'abcdefg', '2020-01-01 11:11:11', '1986-01-01']\n",
      "[1, 'dewei', 'abcdefg', '2020-01-01 11:11:11', '1986-01-01', 'abcdefg']\n",
      "[1, 'dewei', 'abcdefg', '2020-01-01 11:11:11', '1986-01-01', 'abcdefg', None]\n",
      "[1, 'dewei', 'abcdefg', '2020-01-01 11:11:11', '1986-01-01', 'abcdefg', None, 'saturday']\n"
     ]
    }
   ],
   "source": [
    "# 获取字典中的key []法 get法\n",
    "# 如果确认key肯定在字典中，可以用[]法，不然用get法。\n",
    "\n",
    "# coding:utf-8\n",
    "user_info = {\n",
    "    'id':1,\n",
    "    'username':'dewei',\n",
    "    'password':'abcdefg',\n",
    "    'creat_time':'2020-01-01 11:11:11',\n",
    "    'today':'saturday'\n",
    "}\n",
    "values = []\n",
    "values.append(user_info['id'])\n",
    "values.append(user_info['username'])\n",
    "values.append(user_info['password'])\n",
    "values.append(user_info['creat_time'])\n",
    "print(values)\n",
    "# values.append(user_info['birthday']) #KeyError: 'birthday'\n",
    "values.append(user_info.get('birthday','1986-01-01')) #key不在列表中,会使用默认值\n",
    "print(values)\n",
    "values.append(user_info.get('password')) #key在列表中,直接使用\n",
    "print(values)\n",
    "values.append(user_info.get(\"tuple\"))\n",
    "print(values)\n",
    "today = user_info.get('today','sunday') #列表中有key,默认值无效\n",
    "values.append(today)\n",
    "print(values)\n"
   ]
  },
  {
   "cell_type": "code",
   "execution_count": 14,
   "metadata": {},
   "outputs": [
    {
     "name": "stdout",
     "output_type": "stream",
     "text": [
      "{'ipad': {'name': 'ipad', 'price': 2200, 'desc': '平板电脑'}, 'iphone': {'name': 'iphone', 'price': 3000, 'desc': '智能手机'}, 'pc': {'name': 'pc', 'price': '5000', 'desc': '台式电脑'}, 'mac': {'name': 'mac', 'price': '8000', 'desc': '平板电脑'}}\n",
      "一个中学生购买了pc,它的价格是5000\n",
      "{'name': 'pc', 'price': '5000', 'desc': '台式电脑'}\n",
      "___\n",
      "{'ipad': {'name': 'ipad', 'price': 2200, 'desc': '平板电脑'}, 'iphone': {'name': 'iphone', 'price': 3000, 'desc': '智能手机'}, 'mac': {'name': 'mac', 'price': '8000', 'desc': '平板电脑'}}\n",
      "一个程序员购买了mac,它的价格是8000\n",
      "dict_keys(['ipad', 'iphone'])\n",
      "ipad和iphone都被卖出了,他们一共花费了5200元\n",
      "dict_keys([])\n"
     ]
    }
   ],
   "source": [
    "# 函数 clear()\n",
    "# 功能: 清空字典\n",
    "# 用法: dict.clear()->无参数,无返回值 clear比直接赋值{}要高效一些, 因为赋值要在内存中重新创区间\n",
    "\n",
    "# 函数 pop()\n",
    "# 功能:删除字典中指定的key,将结果返回 key不存在则报错\n",
    "# 用法 dict.pop(key) 返回value\n",
    "\n",
    "# 函数 del\n",
    "# 功能: 删除变量\n",
    "# 用法 del my_dict['key']\n",
    "#     del my_dict\n",
    "\n",
    "# coding:utf-8\n",
    "projects ={\n",
    "    'ipad':{'name':'ipad','price':2200,'desc':'平板电脑'},\n",
    "    'iphone':{'name':'iphone','price':3000,'desc':'智能手机'},\n",
    "    'pc':{'name':'pc','price':'5000','desc':'台式电脑'},\n",
    "    'mac':{'name':'mac','price':'8000','desc':'平板电脑'}\n",
    "}\n",
    "print(projects)\n",
    "print('一个中学生购买了{},它的价格是{}'.format(projects['pc']['name'],projects['pc']['price']))\n",
    "print(projects.pop('pc'))\n",
    "print()\n",
    "print(projects)\n",
    "\n",
    "result = projects.pop('mac')\n",
    "print('一个程序员购买了{},它的价格是{}'.format(result['name'],result['price']))\n",
    "print(projects.keys())\n",
    "\n",
    "print('{}和{}都被卖出了,他们一共花费了{}元'.format(\n",
    "    projects['ipad']['name'],projects['iphone']['name'],\n",
    "    projects['ipad']['price']+projects['iphone']['price']\n",
    "))\n",
    "projects.clear()\n",
    "print(projects.keys())\n",
    "\n",
    "del projects\n",
    "# print(projects)"
   ]
  },
  {
   "cell_type": "code",
   "execution_count": 6,
   "metadata": {},
   "outputs": [
    {
     "name": "stdout",
     "output_type": "stream",
     "text": [
      "{'name': 'dict1', 'sub_dict': {'name': 'sub2', 'number': 123}}\n",
      "{'name': 'dict1', 'sub_dict': {'name': 'sub2', 'number': 123}}\n",
      "{'name': 'dict1', 'sub_dict': {'name': 'sub2', 'number': 123}}\n",
      "{'name': 'dict1', 'sub_dict': {'name': 'sub3', 'number': 123}}\n",
      "{'name': 'dict2', 'sub_dict': {'name': 'sub3', 'number': 123}}\n",
      "{'name': 'dict2', 'sub_dict': {'name': 'sub3', 'number': 123}, 'name2': 'dict2'}\n"
     ]
    }
   ],
   "source": [
    "# 函数 copy\n",
    "# 功能:将当前字典复制到一个新的字典,内存地址不同\n",
    "# 用法:dict.copy()\n",
    "\n",
    "import copy\n",
    "\n",
    "\n",
    "old_dict={'name':'dict1',\"sub_dict\":{'name':'sub1','number':123}}\n",
    "new_dict = old_dict.copy()\n",
    "new_dict['sub_dict']['name']='sub2'\n",
    "print(old_dict)\n",
    "print(new_dict)\n",
    "\n",
    "# 深拷贝\n",
    "new_dict2 = copy.deepcopy(old_dict)\n",
    "new_dict2['sub_dict']['name']='sub3'\n",
    "print(old_dict)\n",
    "print(new_dict2)\n",
    "\n",
    "\n",
    "#update方法\n",
    "new_dict2.update({'name':'dict2'})\n",
    "print(new_dict2)\n",
    "new_dict2.update({'name2':'dict2'})\n",
    "print(new_dict2)"
   ]
  },
  {
   "cell_type": "code",
   "execution_count": 16,
   "metadata": {},
   "outputs": [
    {
     "name": "stdout",
     "output_type": "stream",
     "text": [
      "False\n",
      "False\n"
     ]
    }
   ],
   "source": [
    "# 成员运算符 in not in \n",
    "dic ={'name':'hule','age':'25'}\n",
    "print('hule'in dic)\n",
    "print('name'not in dic)\n"
   ]
  },
  {
   "cell_type": "code",
   "execution_count": null,
   "metadata": {},
   "outputs": [],
   "source": [
    "# update()\n",
    "# 作用:更新字典里的值\n",
    "# 用法:dict.update(new_dict) 已有的key,value会更新  没有的key会添加进去\n",
    "# setdefault()\n",
    "# 作用:和get方法类似  字典中没有key时,添加key value为默认值\n",
    "# 用法: dict.setdefault('key','value')\n",
    "# coding:utf-8\n",
    "\n",
    "user = {'username': 'dewei', 'age': 33}\n",
    "xiaomu = {'username': '小慕', 'top': 175, 'sex': '男'}\n",
    "user.update(xiaomu)\n",
    "print(user)\n",
    "\n",
    "value = user.setdefault('username', 'xiaoyun')\n",
    "value = user.setdefault('birthday', '2020-1-1')\n",
    "print(user, value)\n",
    "\n",
    "\n",
    "# user['top'] = 174\n",
    "#\n",
    "# print(user)\n",
    "# user['username'] = '小慕'\n",
    "# print(user)\n",
    "# user['top'] = 175\n",
    "# user['age'] = 10\n",
    "# print(user)\n"
   ]
  },
  {
   "cell_type": "code",
   "execution_count": 20,
   "metadata": {},
   "outputs": [
    {
     "name": "stdout",
     "output_type": "stream",
     "text": [
      "{'name': 'bob'}\n",
      "('name', 'bob')\n",
      "name3\n",
      "name1\n",
      "___\n",
      "('name3', 'bob')\n",
      "('name2', 'alice')\n",
      "('name1', 'hule')\n"
     ]
    }
   ],
   "source": [
    "# 函数 popitem\n",
    "# 作用:删除字典里末尾一组键值对\n",
    "# 用法:dict.popitem()->返回键值对元组\n",
    "# 注意事项: dict为空则报错\n",
    "dic = {'name':'hule','name':'alice','name':'bob'} #key只有一个,dic内最终只有一个key \n",
    "print(dic)\n",
    "print(dic.popitem())\n",
    "# print(dic.popitem()) #KeyError: 'popitem(): dictionary is empty'\n",
    "\n",
    "dic = {'name1':'hule','name2':'alice','name3':'bob'}\n",
    "print(max(dic))\n",
    "print(min(dic))\n",
    "print(\"___\")\n",
    "print(dic.popitem())\n",
    "print(dic.popitem())\n",
    "print(dic.popitem())\n",
    "\n",
    "# print(dic.popitem()) #KeyError: 'popitem(): dictionary is empty'\n"
   ]
  },
  {
   "cell_type": "code",
   "execution_count": null,
   "metadata": {},
   "outputs": [],
   "source": [
    "# 所有数据类型与布尔值的关系\n",
    "# coding:utf-8\n",
    "a1 = 1\n",
    "a2 = 0\n",
    "print(bool(a1))\n",
    "print(bool(a2))\n",
    "\n",
    "b1 = 1.0\n",
    "b2 = 0.0\n",
    "print(bool(b1))\n",
    "print(bool(b2))\n",
    "\n",
    "c1 = None\n",
    "c2 = not None\n",
    "print(bool(c1))\n",
    "print(bool(c2))\n",
    "\n",
    "d1 = True\n",
    "d2 = False\n",
    "print(bool(d1))\n",
    "print(bool(d2))\n",
    "\n",
    "e1 = \"c\"\n",
    "e2 = ''\n",
    "print(bool(e1),bool(e2))\n",
    "\n",
    "f1 =[1]\n",
    "f2 = []\n",
    "print(bool(f1),bool(f2))\n",
    "\n",
    "g1 =()\n",
    "g2 = (1,)\n",
    "g3 = (1)\n",
    "print(bool(g1),bool(g2),bool(g3))\n",
    "\n",
    "h1 = {}\n",
    "h2 = {'name':'hule'}\n",
    "print(bool(h1),bool(h2))"
   ]
  }
 ],
 "metadata": {
  "kernelspec": {
   "display_name": "Python 3.9.1 64-bit",
   "language": "python",
   "name": "python3"
  },
  "language_info": {
   "codemirror_mode": {
    "name": "ipython",
    "version": 3
   },
   "file_extension": ".py",
   "mimetype": "text/x-python",
   "name": "python",
   "nbconvert_exporter": "python",
   "pygments_lexer": "ipython3",
   "version": "3.9.1"
  },
  "orig_nbformat": 4,
  "vscode": {
   "interpreter": {
    "hash": "7076dbddf55ea1a8f879a6c608378d0067acea8036463ec59d77e9600896bd97"
   }
  }
 },
 "nbformat": 4,
 "nbformat_minor": 2
}
